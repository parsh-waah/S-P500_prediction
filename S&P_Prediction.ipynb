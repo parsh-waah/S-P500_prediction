{
  "nbformat": 4,
  "nbformat_minor": 0,
  "metadata": {
    "colab": {
      "name": "S&P_Prediction.ipynb",
      "provenance": [],
      "collapsed_sections": [],
      "authorship_tag": "ABX9TyOSfKIto8/BNtJB5x2MJUxc",
      "include_colab_link": true
    },
    "kernelspec": {
      "name": "python3",
      "display_name": "Python 3"
    },
    "language_info": {
      "name": "python"
    }
  },
  "cells": [
    {
      "cell_type": "markdown",
      "metadata": {
        "id": "view-in-github",
        "colab_type": "text"
      },
      "source": [
        "<a href=\"https://colab.research.google.com/github/parsh-waah/S-P500_prediction/blob/main/S%26P_Prediction.ipynb\" target=\"_parent\"><img src=\"https://colab.research.google.com/assets/colab-badge.svg\" alt=\"Open In Colab\"/></a>"
      ]
    },
    {
      "cell_type": "markdown",
      "source": [
        "Gathering Data from yfinance library"
      ],
      "metadata": {
        "id": "ZeGXErs9zFH-"
      }
    },
    {
      "cell_type": "code",
      "execution_count": null,
      "metadata": {
        "colab": {
          "base_uri": "https://localhost:8080/"
        },
        "id": "9iytvlt68gSN",
        "outputId": "2f48de81-128e-43df-c405-4d54386f782a"
      },
      "outputs": [
        {
          "output_type": "stream",
          "name": "stdout",
          "text": [
            "Collecting yfinance\n",
            "  Downloading yfinance-0.1.70-py2.py3-none-any.whl (26 kB)\n",
            "Requirement already satisfied: numpy>=1.15 in /usr/local/lib/python3.7/dist-packages (from yfinance) (1.21.5)\n",
            "Requirement already satisfied: pandas>=0.24.0 in /usr/local/lib/python3.7/dist-packages (from yfinance) (1.3.5)\n",
            "Requirement already satisfied: multitasking>=0.0.7 in /usr/local/lib/python3.7/dist-packages (from yfinance) (0.0.10)\n",
            "Collecting lxml>=4.5.1\n",
            "  Downloading lxml-4.8.0-cp37-cp37m-manylinux_2_17_x86_64.manylinux2014_x86_64.manylinux_2_24_x86_64.whl (6.4 MB)\n",
            "\u001b[K     |████████████████████████████████| 6.4 MB 10.8 MB/s \n",
            "\u001b[?25hCollecting requests>=2.26\n",
            "  Downloading requests-2.27.1-py2.py3-none-any.whl (63 kB)\n",
            "\u001b[K     |████████████████████████████████| 63 kB 1.2 MB/s \n",
            "\u001b[?25hRequirement already satisfied: python-dateutil>=2.7.3 in /usr/local/lib/python3.7/dist-packages (from pandas>=0.24.0->yfinance) (2.8.2)\n",
            "Requirement already satisfied: pytz>=2017.3 in /usr/local/lib/python3.7/dist-packages (from pandas>=0.24.0->yfinance) (2018.9)\n",
            "Requirement already satisfied: six>=1.5 in /usr/local/lib/python3.7/dist-packages (from python-dateutil>=2.7.3->pandas>=0.24.0->yfinance) (1.15.0)\n",
            "Requirement already satisfied: certifi>=2017.4.17 in /usr/local/lib/python3.7/dist-packages (from requests>=2.26->yfinance) (2021.10.8)\n",
            "Requirement already satisfied: charset-normalizer~=2.0.0 in /usr/local/lib/python3.7/dist-packages (from requests>=2.26->yfinance) (2.0.12)\n",
            "Requirement already satisfied: idna<4,>=2.5 in /usr/local/lib/python3.7/dist-packages (from requests>=2.26->yfinance) (2.10)\n",
            "Requirement already satisfied: urllib3<1.27,>=1.21.1 in /usr/local/lib/python3.7/dist-packages (from requests>=2.26->yfinance) (1.24.3)\n",
            "Installing collected packages: requests, lxml, yfinance\n",
            "  Attempting uninstall: requests\n",
            "    Found existing installation: requests 2.23.0\n",
            "    Uninstalling requests-2.23.0:\n",
            "      Successfully uninstalled requests-2.23.0\n",
            "  Attempting uninstall: lxml\n",
            "    Found existing installation: lxml 4.2.6\n",
            "    Uninstalling lxml-4.2.6:\n",
            "      Successfully uninstalled lxml-4.2.6\n",
            "\u001b[31mERROR: pip's dependency resolver does not currently take into account all the packages that are installed. This behaviour is the source of the following dependency conflicts.\n",
            "google-colab 1.0.0 requires requests~=2.23.0, but you have requests 2.27.1 which is incompatible.\n",
            "datascience 0.10.6 requires folium==0.2.1, but you have folium 0.8.3 which is incompatible.\u001b[0m\n",
            "Successfully installed lxml-4.8.0 requests-2.27.1 yfinance-0.1.70\n",
            "done\n"
          ]
        }
      ],
      "source": [
        "!pip install yfinance\n",
        "print('done')"
      ]
    },
    {
      "cell_type": "code",
      "source": [
        "import pandas as pd\n",
        "import yfinance as yf"
      ],
      "metadata": {
        "id": "q3W07jzVBM-U"
      },
      "execution_count": null,
      "outputs": []
    },
    {
      "cell_type": "code",
      "source": [
        "snp_df = yf.download('^GSPC', \n",
        "                      start='1982-05-01', \n",
        "                      end='2022-02-24', \n",
        "                      progress=True,\n",
        ")\n",
        "snp_df.head()"
      ],
      "metadata": {
        "colab": {
          "base_uri": "https://localhost:8080/",
          "height": 255
        },
        "id": "--srULVABYBR",
        "outputId": "33d8696a-8e91-41c6-f336-bbfc96676874"
      },
      "execution_count": null,
      "outputs": [
        {
          "output_type": "stream",
          "name": "stdout",
          "text": [
            "\r[*********************100%***********************]  1 of 1 completed\n"
          ]
        },
        {
          "output_type": "execute_result",
          "data": {
            "text/plain": [
              "                  Open        High         Low       Close   Adj Close  \\\n",
              "Date                                                                     \n",
              "1982-05-03  115.959999  116.820000  115.910004  116.820000  116.820000   \n",
              "1982-05-04  117.410004  117.639999  116.849998  117.459999  117.459999   \n",
              "1982-05-05  117.849998  118.050003  117.309998  117.669998  117.669998   \n",
              "1982-05-06  118.820000  118.830002  117.680000  118.680000  118.680000   \n",
              "1982-05-07  119.080002  119.889999  118.709999  119.470001  119.470001   \n",
              "\n",
              "              Volume  \n",
              "Date                  \n",
              "1982-05-03  46490000  \n",
              "1982-05-04  58720000  \n",
              "1982-05-05  58860000  \n",
              "1982-05-06  67540000  \n",
              "1982-05-07  67130000  "
            ],
            "text/html": [
              "\n",
              "  <div id=\"df-3a0af275-cb1d-498e-af09-3759d00c19ee\">\n",
              "    <div class=\"colab-df-container\">\n",
              "      <div>\n",
              "<style scoped>\n",
              "    .dataframe tbody tr th:only-of-type {\n",
              "        vertical-align: middle;\n",
              "    }\n",
              "\n",
              "    .dataframe tbody tr th {\n",
              "        vertical-align: top;\n",
              "    }\n",
              "\n",
              "    .dataframe thead th {\n",
              "        text-align: right;\n",
              "    }\n",
              "</style>\n",
              "<table border=\"1\" class=\"dataframe\">\n",
              "  <thead>\n",
              "    <tr style=\"text-align: right;\">\n",
              "      <th></th>\n",
              "      <th>Open</th>\n",
              "      <th>High</th>\n",
              "      <th>Low</th>\n",
              "      <th>Close</th>\n",
              "      <th>Adj Close</th>\n",
              "      <th>Volume</th>\n",
              "    </tr>\n",
              "    <tr>\n",
              "      <th>Date</th>\n",
              "      <th></th>\n",
              "      <th></th>\n",
              "      <th></th>\n",
              "      <th></th>\n",
              "      <th></th>\n",
              "      <th></th>\n",
              "    </tr>\n",
              "  </thead>\n",
              "  <tbody>\n",
              "    <tr>\n",
              "      <th>1982-05-03</th>\n",
              "      <td>115.959999</td>\n",
              "      <td>116.820000</td>\n",
              "      <td>115.910004</td>\n",
              "      <td>116.820000</td>\n",
              "      <td>116.820000</td>\n",
              "      <td>46490000</td>\n",
              "    </tr>\n",
              "    <tr>\n",
              "      <th>1982-05-04</th>\n",
              "      <td>117.410004</td>\n",
              "      <td>117.639999</td>\n",
              "      <td>116.849998</td>\n",
              "      <td>117.459999</td>\n",
              "      <td>117.459999</td>\n",
              "      <td>58720000</td>\n",
              "    </tr>\n",
              "    <tr>\n",
              "      <th>1982-05-05</th>\n",
              "      <td>117.849998</td>\n",
              "      <td>118.050003</td>\n",
              "      <td>117.309998</td>\n",
              "      <td>117.669998</td>\n",
              "      <td>117.669998</td>\n",
              "      <td>58860000</td>\n",
              "    </tr>\n",
              "    <tr>\n",
              "      <th>1982-05-06</th>\n",
              "      <td>118.820000</td>\n",
              "      <td>118.830002</td>\n",
              "      <td>117.680000</td>\n",
              "      <td>118.680000</td>\n",
              "      <td>118.680000</td>\n",
              "      <td>67540000</td>\n",
              "    </tr>\n",
              "    <tr>\n",
              "      <th>1982-05-07</th>\n",
              "      <td>119.080002</td>\n",
              "      <td>119.889999</td>\n",
              "      <td>118.709999</td>\n",
              "      <td>119.470001</td>\n",
              "      <td>119.470001</td>\n",
              "      <td>67130000</td>\n",
              "    </tr>\n",
              "  </tbody>\n",
              "</table>\n",
              "</div>\n",
              "      <button class=\"colab-df-convert\" onclick=\"convertToInteractive('df-3a0af275-cb1d-498e-af09-3759d00c19ee')\"\n",
              "              title=\"Convert this dataframe to an interactive table.\"\n",
              "              style=\"display:none;\">\n",
              "        \n",
              "  <svg xmlns=\"http://www.w3.org/2000/svg\" height=\"24px\"viewBox=\"0 0 24 24\"\n",
              "       width=\"24px\">\n",
              "    <path d=\"M0 0h24v24H0V0z\" fill=\"none\"/>\n",
              "    <path d=\"M18.56 5.44l.94 2.06.94-2.06 2.06-.94-2.06-.94-.94-2.06-.94 2.06-2.06.94zm-11 1L8.5 8.5l.94-2.06 2.06-.94-2.06-.94L8.5 2.5l-.94 2.06-2.06.94zm10 10l.94 2.06.94-2.06 2.06-.94-2.06-.94-.94-2.06-.94 2.06-2.06.94z\"/><path d=\"M17.41 7.96l-1.37-1.37c-.4-.4-.92-.59-1.43-.59-.52 0-1.04.2-1.43.59L10.3 9.45l-7.72 7.72c-.78.78-.78 2.05 0 2.83L4 21.41c.39.39.9.59 1.41.59.51 0 1.02-.2 1.41-.59l7.78-7.78 2.81-2.81c.8-.78.8-2.07 0-2.86zM5.41 20L4 18.59l7.72-7.72 1.47 1.35L5.41 20z\"/>\n",
              "  </svg>\n",
              "      </button>\n",
              "      \n",
              "  <style>\n",
              "    .colab-df-container {\n",
              "      display:flex;\n",
              "      flex-wrap:wrap;\n",
              "      gap: 12px;\n",
              "    }\n",
              "\n",
              "    .colab-df-convert {\n",
              "      background-color: #E8F0FE;\n",
              "      border: none;\n",
              "      border-radius: 50%;\n",
              "      cursor: pointer;\n",
              "      display: none;\n",
              "      fill: #1967D2;\n",
              "      height: 32px;\n",
              "      padding: 0 0 0 0;\n",
              "      width: 32px;\n",
              "    }\n",
              "\n",
              "    .colab-df-convert:hover {\n",
              "      background-color: #E2EBFA;\n",
              "      box-shadow: 0px 1px 2px rgba(60, 64, 67, 0.3), 0px 1px 3px 1px rgba(60, 64, 67, 0.15);\n",
              "      fill: #174EA6;\n",
              "    }\n",
              "\n",
              "    [theme=dark] .colab-df-convert {\n",
              "      background-color: #3B4455;\n",
              "      fill: #D2E3FC;\n",
              "    }\n",
              "\n",
              "    [theme=dark] .colab-df-convert:hover {\n",
              "      background-color: #434B5C;\n",
              "      box-shadow: 0px 1px 3px 1px rgba(0, 0, 0, 0.15);\n",
              "      filter: drop-shadow(0px 1px 2px rgba(0, 0, 0, 0.3));\n",
              "      fill: #FFFFFF;\n",
              "    }\n",
              "  </style>\n",
              "\n",
              "      <script>\n",
              "        const buttonEl =\n",
              "          document.querySelector('#df-3a0af275-cb1d-498e-af09-3759d00c19ee button.colab-df-convert');\n",
              "        buttonEl.style.display =\n",
              "          google.colab.kernel.accessAllowed ? 'block' : 'none';\n",
              "\n",
              "        async function convertToInteractive(key) {\n",
              "          const element = document.querySelector('#df-3a0af275-cb1d-498e-af09-3759d00c19ee');\n",
              "          const dataTable =\n",
              "            await google.colab.kernel.invokeFunction('convertToInteractive',\n",
              "                                                     [key], {});\n",
              "          if (!dataTable) return;\n",
              "\n",
              "          const docLinkHtml = 'Like what you see? Visit the ' +\n",
              "            '<a target=\"_blank\" href=https://colab.research.google.com/notebooks/data_table.ipynb>data table notebook</a>'\n",
              "            + ' to learn more about interactive tables.';\n",
              "          element.innerHTML = '';\n",
              "          dataTable['output_type'] = 'display_data';\n",
              "          await google.colab.output.renderOutput(dataTable, element);\n",
              "          const docLink = document.createElement('div');\n",
              "          docLink.innerHTML = docLinkHtml;\n",
              "          element.appendChild(docLink);\n",
              "        }\n",
              "      </script>\n",
              "    </div>\n",
              "  </div>\n",
              "  "
            ]
          },
          "metadata": {},
          "execution_count": 3
        }
      ]
    },
    {
      "cell_type": "code",
      "source": [
        "snp_df['Volume'].describe()"
      ],
      "metadata": {
        "colab": {
          "base_uri": "https://localhost:8080/"
        },
        "id": "PHQVBaSaBu1b",
        "outputId": "ceff7009-6b1b-4748-a13f-f7c82004147b"
      },
      "execution_count": null,
      "outputs": [
        {
          "output_type": "execute_result",
          "data": {
            "text/plain": [
              "count    1.003900e+04\n",
              "mean     1.904520e+09\n",
              "std      1.846494e+09\n",
              "min      1.499000e+07\n",
              "25%      2.129350e+08\n",
              "50%      1.257200e+09\n",
              "75%      3.428180e+09\n",
              "max      1.145623e+10\n",
              "Name: Volume, dtype: float64"
            ]
          },
          "metadata": {},
          "execution_count": 4
        }
      ]
    },
    {
      "cell_type": "code",
      "source": [
        "co = (snp_df['Open']==0).sum()\n",
        "print(co)"
      ],
      "metadata": {
        "colab": {
          "base_uri": "https://localhost:8080/"
        },
        "id": "2CKtEX-TKEjT",
        "outputId": "65836ac0-5298-4082-aa7b-c1335bf6efb7"
      },
      "execution_count": null,
      "outputs": [
        {
          "output_type": "stream",
          "name": "stdout",
          "text": [
            "0\n"
          ]
        }
      ]
    },
    {
      "cell_type": "code",
      "source": [
        "snp_df.drop('Adj Close',axis=1,inplace=True)\n",
        "print(snp_df.head())\n",
        "print(snp_df.shape)"
      ],
      "metadata": {
        "colab": {
          "base_uri": "https://localhost:8080/"
        },
        "id": "BmxziyuOVbGA",
        "outputId": "300d109a-a665-48b8-cf32-e501c134a8cd"
      },
      "execution_count": null,
      "outputs": [
        {
          "output_type": "stream",
          "name": "stdout",
          "text": [
            "                  Open        High         Low       Close    Volume\n",
            "Date                                                                \n",
            "1982-05-03  115.959999  116.820000  115.910004  116.820000  46490000\n",
            "1982-05-04  117.410004  117.639999  116.849998  117.459999  58720000\n",
            "1982-05-05  117.849998  118.050003  117.309998  117.669998  58860000\n",
            "1982-05-06  118.820000  118.830002  117.680000  118.680000  67540000\n",
            "1982-05-07  119.080002  119.889999  118.709999  119.470001  67130000\n",
            "(10039, 5)\n"
          ]
        }
      ]
    },
    {
      "cell_type": "markdown",
      "source": [
        "Setting the index of the dataset"
      ],
      "metadata": {
        "id": "tf_ruOf9zRwf"
      }
    },
    {
      "cell_type": "code",
      "source": [
        "index=[]\n",
        "index1=[]\n",
        "for i in range(10039):\n",
        "  index1.append(i)\n",
        "\n",
        "index = pd.Index(index1)\n",
        "snp_df = snp_df.set_index(index)\n",
        "print(snp_df)"
      ],
      "metadata": {
        "colab": {
          "base_uri": "https://localhost:8080/"
        },
        "id": "QspvG7tZ2Fxy",
        "outputId": "c44c3da6-b251-48a8-cff9-04088cd2fb88"
      },
      "execution_count": null,
      "outputs": [
        {
          "output_type": "stream",
          "name": "stdout",
          "text": [
            "              Open         High          Low        Close      Volume\n",
            "0       115.959999   116.820000   115.910004   116.820000    46490000\n",
            "1       117.410004   117.639999   116.849998   117.459999    58720000\n",
            "2       117.849998   118.050003   117.309998   117.669998    58860000\n",
            "3       118.820000   118.830002   117.680000   118.680000    67540000\n",
            "4       119.080002   119.889999   118.709999   119.470001    67130000\n",
            "...            ...          ...          ...          ...         ...\n",
            "10034  4455.750000  4489.549805  4429.680176  4475.009766  3478750000\n",
            "10035  4456.060059  4456.060059  4373.810059  4380.259766  3596510000\n",
            "10036  4384.569824  4394.600098  4327.220215  4348.870117  3871340000\n",
            "10037  4332.740234  4362.120117  4267.109863  4304.759766  4007780000\n",
            "10038  4324.930176  4341.509766  4221.509766  4225.500000  3814340000\n",
            "\n",
            "[10039 rows x 5 columns]\n"
          ]
        }
      ]
    },
    {
      "cell_type": "markdown",
      "source": [
        "Replacing 0 value in Open as the windowed average of its corresponding 10 entries."
      ],
      "metadata": {
        "id": "b11QlwXUPShK"
      }
    },
    {
      "cell_type": "code",
      "source": [
        "snp_df[(snp_df.values == 0).any(axis=1)].index.values.tolist()"
      ],
      "metadata": {
        "colab": {
          "base_uri": "https://localhost:8080/"
        },
        "id": "qkJiGJEfPRFG",
        "outputId": "69aa463a-3285-4f5e-8c49-510c7a785774"
      },
      "execution_count": null,
      "outputs": [
        {
          "output_type": "execute_result",
          "data": {
            "text/plain": [
              "[]"
            ]
          },
          "metadata": {},
          "execution_count": 8
        }
      ]
    },
    {
      "cell_type": "code",
      "source": [
        "from sklearn.preprocessing import MinMaxScaler\n",
        "import numpy as np\n",
        "sc = MinMaxScaler(feature_range = (0, 1))\n",
        "snp_df = sc.fit_transform(np.array(snp_df))"
      ],
      "metadata": {
        "id": "JTSJR_983zx0"
      },
      "execution_count": null,
      "outputs": []
    },
    {
      "cell_type": "code",
      "source": [
        "print(snp_df[-1])\n",
        "print(snp_df.shape)"
      ],
      "metadata": {
        "colab": {
          "base_uri": "https://localhost:8080/"
        },
        "id": "1h8g7dKq4kMD",
        "outputId": "f0621a83-7d8c-4ad5-b322-a749134d93df"
      },
      "execution_count": null,
      "outputs": [
        {
          "output_type": "stream",
          "name": "stdout",
          "text": [
            "[0.89800714 0.8988232  0.88060082 0.87834618 0.33207502]\n",
            "(10039, 5)\n"
          ]
        }
      ]
    },
    {
      "cell_type": "markdown",
      "source": [
        "Splitting dataset as 80% training data, 10% validation set, 10% test set"
      ],
      "metadata": {
        "id": "0cGZ-jq-PxdK"
      }
    },
    {
      "cell_type": "code",
      "source": [
        "#import numpy as np\n",
        "train, validate, test = \\\n",
        "              np.split(snp_df, \n",
        "                       [int(.8*len(snp_df)), int(.9*len(snp_df))])\n"
      ],
      "metadata": {
        "id": "8f6w73Zbb6Tg"
      },
      "execution_count": null,
      "outputs": []
    },
    {
      "cell_type": "code",
      "source": [
        "print(train.shape)\n",
        "print(test.shape)\n",
        "print(validate.shape)"
      ],
      "metadata": {
        "colab": {
          "base_uri": "https://localhost:8080/"
        },
        "id": "Iy7a8UgWe6YG",
        "outputId": "bcc80c4a-ec15-4789-9037-c5e3f722121a"
      },
      "execution_count": null,
      "outputs": [
        {
          "output_type": "stream",
          "name": "stdout",
          "text": [
            "(8031, 5)\n",
            "(1004, 5)\n",
            "(1004, 5)\n"
          ]
        }
      ]
    },
    {
      "cell_type": "code",
      "source": [
        "print(train[0:5])\n",
        "print(validate[0:5])\n",
        "print(test[0:5])"
      ],
      "metadata": {
        "colab": {
          "base_uri": "https://localhost:8080/"
        },
        "id": "yFvbSOzyzjU5",
        "outputId": "3ab93182-1974-4471-cfb8-63c2bc2a002f"
      },
      "execution_count": null,
      "outputs": [
        {
          "output_type": "stream",
          "name": "stdout",
          "text": [
            "[[0.00287957 0.00292857 0.00293084 0.00306765 0.0027532 ]\n",
            " [0.00318795 0.00310246 0.00313179 0.00320399 0.00382214]\n",
            " [0.00328152 0.00318941 0.00323012 0.00324873 0.00383437]\n",
            " [0.00348781 0.00335482 0.00330922 0.00346389 0.00459303]\n",
            " [0.00354311 0.0035796  0.00352941 0.00363219 0.0045572 ]]\n",
            "[[0.37680269 0.37724279 0.37880305 0.37804795 0.29240362]\n",
            " [0.37772567 0.37758846 0.37802919 0.37826311 0.3102592 ]\n",
            " [0.3775853  0.37637972 0.3772767  0.37807778 0.26276522]\n",
            " [0.37767038 0.37732975 0.37660116 0.37604545 0.29519615]\n",
            " [0.37509493 0.37436725 0.37457031 0.37616687 0.28457318]]\n",
            "[[0.55566782 0.55727251 0.54671598 0.54860952 0.39235083]\n",
            " [0.54368802 0.54992672 0.54408018 0.5515025  0.33802805]\n",
            " [0.54840298 0.55667878 0.55015776 0.5578274  0.32302618]\n",
            " [0.55884938 0.5575249  0.55774887 0.559357   0.29329863]\n",
            " [0.55459595 0.55721106 0.55571374 0.55907579 0.29527219]]\n"
          ]
        }
      ]
    },
    {
      "cell_type": "markdown",
      "source": [
        "don't execute"
      ],
      "metadata": {
        "id": "vqFzEFpF5xVh"
      }
    },
    {
      "cell_type": "code",
      "source": [
        "co1 = (train['Open']==0).sum()\n",
        "print(co1)"
      ],
      "metadata": {
        "colab": {
          "base_uri": "https://localhost:8080/"
        },
        "id": "5HDc9oEQYJAm",
        "outputId": "3a0e6074-3e9b-4539-9c3c-e62d0f4e61d5"
      },
      "execution_count": null,
      "outputs": [
        {
          "output_type": "stream",
          "name": "stdout",
          "text": [
            "0\n"
          ]
        }
      ]
    },
    {
      "cell_type": "code",
      "source": [
        "print(test.describe())\n",
        "print(validate.describe())"
      ],
      "metadata": {
        "colab": {
          "base_uri": "https://localhost:8080/"
        },
        "id": "Mw6_Y1wCCwje",
        "outputId": "e70cab57-eefa-4eba-945e-e8667836c11b"
      },
      "execution_count": null,
      "outputs": [
        {
          "output_type": "stream",
          "name": "stdout",
          "text": [
            "              Open         High          Low        Close        Volume\n",
            "count  1004.000000  1004.000000  1004.000000  1004.000000  1.004000e+03\n",
            "mean   3353.670011  3372.124134  3333.091685  3353.789936  3.967019e+09\n",
            "std     668.857072   670.368763   667.465163   668.966712  1.135248e+09\n",
            "min    2290.709961  2300.729980  2191.860107  2237.399902  1.296540e+09\n",
            "25%    2819.539978  2836.532471  2801.542542  2818.730042  3.260862e+09\n",
            "50%    3087.214966  3100.405029  3074.225098  3092.460083  3.664790e+09\n",
            "75%    3895.352539  3918.647583  3877.432434  3903.042542  4.392310e+09\n",
            "max    4804.509766  4818.620117  4780.040039  4796.560059  9.878040e+09\n",
            "              Open         High          Low        Close        Volume\n",
            "count  1004.000000  1004.000000  1004.000000  1004.000000  1.004000e+03\n",
            "mean   2171.159859  2180.037491  2161.510948  2171.577062  3.593113e+09\n",
            "std     233.305045   232.602179   234.453360   233.404760  7.060292e+08\n",
            "min    1818.180054  1834.189941  1810.099976  1815.689941  1.349780e+09\n",
            "25%    2005.420044  2018.682465  1993.357513  2003.609955  3.169655e+09\n",
            "50%    2097.765015  2103.994995  2086.890015  2097.989990  3.501840e+09\n",
            "75%    2346.174988  2353.344971  2337.939941  2348.509949  3.906622e+09\n",
            "max    2867.229980  2872.870117  2851.479980  2872.870117  7.597450e+09\n"
          ]
        }
      ]
    },
    {
      "cell_type": "markdown",
      "source": [
        "Normalizing data using linear scaling"
      ],
      "metadata": {
        "id": "HREL5wdvzcW0"
      }
    },
    {
      "cell_type": "code",
      "source": [
        "min=[]\n",
        "for i in train.min():\n",
        "  min.append(i)\n",
        "\n",
        "max=[]\n",
        "for i in test.max():\n",
        "  max.append(i)\n",
        "  \n",
        "print(min)\n",
        "print(max)"
      ],
      "metadata": {
        "colab": {
          "base_uri": "https://localhost:8080/"
        },
        "id": "D-KxXVv-praj",
        "outputId": "0dc3b713-84e1-4e6f-9180-cacd8ab071f7"
      },
      "execution_count": null,
      "outputs": [
        {
          "output_type": "stream",
          "name": "stdout",
          "text": [
            "[102.41999816894531, 103.01000213623047, 102.19999694824219, 102.41999816894531, 14990000.0]\n",
            "[4804.509765625, 4818.6201171875, 4780.0400390625, 4796.56005859375, 9878040000.0]\n"
          ]
        }
      ]
    },
    {
      "cell_type": "code",
      "source": [
        "#from sklearn.preprocessing import MinMaxScaler\n",
        "#sc = MinMaxScaler(feature_range = (0, 1))\n",
        "#train_scaled = sc.fit_transform(train)\n",
        "#validate_scaled = sc.fit_transform(validate)\n",
        "#test_scaled = sc.fit_transform(test)"
      ],
      "metadata": {
        "id": "v5xvvneOLrHa"
      },
      "execution_count": null,
      "outputs": []
    },
    {
      "cell_type": "markdown",
      "source": [
        ""
      ],
      "metadata": {
        "id": "_woise5kzB78"
      }
    },
    {
      "cell_type": "code",
      "source": [
        "print(train.shape)\n",
        "print(validate.shape)\n",
        "print(test.shape)"
      ],
      "metadata": {
        "colab": {
          "base_uri": "https://localhost:8080/"
        },
        "id": "y99jZiomJdLy",
        "outputId": "3a321662-4d5c-48e2-e6e1-2ecfa441d26f"
      },
      "execution_count": null,
      "outputs": [
        {
          "output_type": "stream",
          "name": "stdout",
          "text": [
            "(8031, 5)\n",
            "(1004, 5)\n",
            "(1004, 5)\n"
          ]
        }
      ]
    },
    {
      "cell_type": "code",
      "source": [
        "validate=validate.to_numpy(dtype=float)"
      ],
      "metadata": {
        "id": "Pep6whGWJ3MO"
      },
      "execution_count": null,
      "outputs": []
    },
    {
      "cell_type": "code",
      "source": [
        "difference0=[]\n",
        "difference1=[]\n",
        "for i in range(1004):\n",
        "  zip_object0 = zip(validate[i], min)\n",
        "  for list1_i, list2_i in zip_object0:\n",
        "    difference0.append(list1_i-list2_i)\n",
        "\n",
        "zip_object1 = zip(max,min)\n",
        "for list1_i, list2_i in zip_object1:\n",
        "    difference1.append(list1_i-list2_i)\n",
        "\n",
        "chunked_list=[]\n",
        "chunk_size = 5\n",
        "for i in range(0, len(difference0), chunk_size):\n",
        "    chunked_list.append(difference0[i:i+chunk_size])\n",
        "#print(np.array(chunked_list))  #df-min\n",
        "\n",
        "#print(difference0)\n",
        "#print(difference1)\n",
        "\n",
        "validate_scaled=np.array(chunked_list)/np.array(difference1)\n",
        "print(validate_scaled)   #df-min/max-min\n",
        "\n",
        "#res = np.array(chunked_list) * np.array(difference1)\n",
        "#print(res)\n",
        "\n",
        "#validate_scaled = np.array(res) + np.array(min)\n",
        "#print(validate_scaled)"
      ],
      "metadata": {
        "colab": {
          "base_uri": "https://localhost:8080/"
        },
        "id": "UtngJRLARu1E",
        "outputId": "134b5c48-27c6-400a-baf3-c34b4e9b8cdc"
      },
      "execution_count": null,
      "outputs": [
        {
          "output_type": "stream",
          "name": "stdout",
          "text": [
            "[[0.37680269 0.37724279 0.37880305 0.37804795 0.33919122]\n",
            " [0.37772567 0.37758846 0.37802919 0.37826311 0.35990388]\n",
            " [0.3775853  0.37637972 0.3772767  0.37807778 0.30481038]\n",
            " ...\n",
            " [0.56463195 0.56782258 0.56683854 0.57032386 0.34570037]\n",
            " [0.56954037 0.56962722 0.56479485 0.56279958 0.37818829]\n",
            " [0.56386844 0.56376799 0.55823628 0.55631277 0.42742052]]\n"
          ]
        }
      ]
    },
    {
      "cell_type": "code",
      "source": [
        "train=train.to_numpy(dtype=float)"
      ],
      "metadata": {
        "id": "QyRUi6Q_ZcKV"
      },
      "execution_count": null,
      "outputs": []
    },
    {
      "cell_type": "code",
      "source": [
        "difference0=[]\n",
        "for i in range(8031):\n",
        "  zip_object0 = zip(train[i], min)\n",
        "  for list1_i, list2_i in zip_object0:\n",
        "    difference0.append(list1_i-list2_i)\n",
        "\n",
        "chunked_list=[]\n",
        "chunk_size = 5\n",
        "for i in range(0, len(difference0), chunk_size):\n",
        "    chunked_list.append(difference0[i:i+chunk_size])\n",
        "\n",
        "train_scaled=np.array(chunked_list)/np.array(difference1)\n",
        "print(train_scaled)"
      ],
      "metadata": {
        "colab": {
          "base_uri": "https://localhost:8080/"
        },
        "id": "HkGfw4O1Zfbv",
        "outputId": "45535df8-64ac-47b0-93a3-0ed12d2f22a2"
      },
      "execution_count": null,
      "outputs": [
        {
          "output_type": "stream",
          "name": "stdout",
          "text": [
            "[[0.00287957 0.00292857 0.00293084 0.00306765 0.00319374]\n",
            " [0.00318795 0.00310246 0.00313179 0.00320399 0.00443372]\n",
            " [0.00328152 0.00318941 0.00323012 0.00324873 0.00444791]\n",
            " ...\n",
            " [0.37329361 0.3720982  0.37030765 0.37138005 0.34606232]\n",
            " [0.37149652 0.37603193 0.37346937 0.37738329 0.38028602]\n",
            " [0.37677504 0.37609556 0.37814675 0.377362   0.34249041]]\n"
          ]
        }
      ]
    },
    {
      "cell_type": "code",
      "source": [
        "test=test.to_numpy(dtype=float)"
      ],
      "metadata": {
        "id": "DgibGt1DaOfe"
      },
      "execution_count": null,
      "outputs": []
    },
    {
      "cell_type": "code",
      "source": [
        "difference0=[]\n",
        "for i in range(1004):\n",
        "  zip_object0 = zip(test[i], min)\n",
        "  for list1_i, list2_i in zip_object0:\n",
        "    difference0.append(list1_i-list2_i)\n",
        "\n",
        "chunked_list=[]\n",
        "chunk_size = 5\n",
        "for i in range(0, len(difference0), chunk_size):\n",
        "    chunked_list.append(difference0[i:i+chunk_size])\n",
        "\n",
        "test_scaled=np.array(chunked_list)/np.array(difference1)\n",
        "print(test_scaled)"
      ],
      "metadata": {
        "colab": {
          "base_uri": "https://localhost:8080/"
        },
        "id": "gRDkcK4VbHOq",
        "outputId": "4b91ce96-8594-4c71-fa27-e31f6020d59b"
      },
      "execution_count": null,
      "outputs": [
        {
          "output_type": "stream",
          "name": "stdout",
          "text": [
            "[[0.55566782 0.55727251 0.54671598 0.54860952 0.45513102]\n",
            " [0.54368802 0.54992672 0.54408018 0.5515025  0.39211603]\n",
            " [0.54840298 0.55667878 0.55015776 0.5578274  0.3747137 ]\n",
            " ...\n",
            " [0.91069079 0.91008162 0.90319895 0.90462791 0.3909896 ]\n",
            " [0.89966811 0.90319386 0.89034893 0.89523101 0.40482305]\n",
            " [0.89800714 0.8988232  0.88060082 0.87834618 0.38521046]]\n"
          ]
        }
      ]
    },
    {
      "cell_type": "code",
      "source": [
        "print(train_scaled[:5])\n",
        "print(validate_scaled[:5])\n",
        "print(test_scaled[:5])"
      ],
      "metadata": {
        "colab": {
          "base_uri": "https://localhost:8080/"
        },
        "id": "IHsj-qqzJPQT",
        "outputId": "b3b80180-945a-4807-a762-d13c48694fa5"
      },
      "execution_count": null,
      "outputs": [
        {
          "output_type": "stream",
          "name": "stdout",
          "text": [
            "[[0.00287957 0.00292857 0.00293084 0.00306765 0.00319374]\n",
            " [0.00318795 0.00310246 0.00313179 0.00320399 0.00443372]\n",
            " [0.00328152 0.00318941 0.00323012 0.00324873 0.00444791]\n",
            " [0.00348781 0.00335482 0.00330922 0.00346389 0.00532797]\n",
            " [0.00354311 0.0035796  0.00352941 0.00363219 0.0052864 ]]\n",
            "[[0.37680269 0.37724279 0.37880305 0.37804795 0.33919122]\n",
            " [0.37772567 0.37758846 0.37802919 0.37826311 0.35990388]\n",
            " [0.3775853  0.37637972 0.3772767  0.37807778 0.30481038]\n",
            " [0.37767038 0.37732975 0.37660116 0.37604545 0.34243059]\n",
            " [0.37509493 0.37436725 0.37457031 0.37616687 0.33010783]]\n",
            "[[0.55566782 0.55727251 0.54671598 0.54860952 0.45513102]\n",
            " [0.54368802 0.54992672 0.54408018 0.5515025  0.39211603]\n",
            " [0.54840298 0.55667878 0.55015776 0.5578274  0.3747137 ]\n",
            " [0.55884938 0.5575249  0.55774887 0.559357   0.34022944]\n",
            " [0.55459595 0.55721106 0.55571374 0.55907579 0.34251879]]\n"
          ]
        }
      ]
    },
    {
      "cell_type": "markdown",
      "source": [
        "till here"
      ],
      "metadata": {
        "id": "LXPr43gh55DM"
      }
    },
    {
      "cell_type": "markdown",
      "source": [
        "Plotting Graph of the Normalized Data"
      ],
      "metadata": {
        "id": "8hVl8Q4zR8kI"
      }
    },
    {
      "cell_type": "code",
      "source": [
        "!pip install matplotlib\n",
        "print('done')"
      ],
      "metadata": {
        "colab": {
          "base_uri": "https://localhost:8080/"
        },
        "id": "6W6RxboH0W25",
        "outputId": "c9e76ad5-99fc-46f2-e784-fd9ed7954357"
      },
      "execution_count": null,
      "outputs": [
        {
          "output_type": "stream",
          "name": "stdout",
          "text": [
            "Requirement already satisfied: matplotlib in /usr/local/lib/python3.7/dist-packages (3.2.2)\n",
            "Requirement already satisfied: pyparsing!=2.0.4,!=2.1.2,!=2.1.6,>=2.0.1 in /usr/local/lib/python3.7/dist-packages (from matplotlib) (3.0.7)\n",
            "Requirement already satisfied: numpy>=1.11 in /usr/local/lib/python3.7/dist-packages (from matplotlib) (1.21.5)\n",
            "Requirement already satisfied: kiwisolver>=1.0.1 in /usr/local/lib/python3.7/dist-packages (from matplotlib) (1.3.2)\n",
            "Requirement already satisfied: cycler>=0.10 in /usr/local/lib/python3.7/dist-packages (from matplotlib) (0.11.0)\n",
            "Requirement already satisfied: python-dateutil>=2.1 in /usr/local/lib/python3.7/dist-packages (from matplotlib) (2.8.2)\n",
            "Requirement already satisfied: six>=1.5 in /usr/local/lib/python3.7/dist-packages (from python-dateutil>=2.1->matplotlib) (1.15.0)\n",
            "done\n"
          ]
        }
      ]
    },
    {
      "cell_type": "code",
      "source": [
        "import matplotlib.pyplot as plt\n",
        "\n",
        "n_days=[]\n",
        "n_days1=[]\n",
        "for i in range(8031):\n",
        "  n_days1.append(i)\n",
        "\n",
        "# x axis values\n",
        "x = n_days1\n",
        "# corresponding y axis values\n",
        "def Extract(lst):\n",
        "    return [item[3] for item in lst]\n",
        "y = Extract(train)\n",
        " \n",
        "# plotting the points\n",
        "plt.plot(x, y)\n",
        " \n",
        "# naming the x axis\n",
        "plt.xlabel('Trading Days')\n",
        "# naming the y axis\n",
        "plt.ylabel('Close Price')\n",
        " \n",
        "# giving a title to my graph\n",
        "plt.title('Train data S&P500')\n",
        " \n",
        "# function to show the plot\n",
        "plt.show()"
      ],
      "metadata": {
        "colab": {
          "base_uri": "https://localhost:8080/",
          "height": 295
        },
        "id": "_WtEfZnxSDix",
        "outputId": "7936d6c2-12b7-46f7-9ffc-f0f885c261a3"
      },
      "execution_count": null,
      "outputs": [
        {
          "output_type": "display_data",
          "data": {
            "text/plain": [
              "<Figure size 432x288 with 1 Axes>"
            ],
            "image/png": "[encoded data removed]"
          },
          "metadata": {
            "needs_background": "light"
          }
        }
      ]
    },
    {
      "cell_type": "code",
      "source": [
        "n_days=[]\n",
        "n_days1=[]\n",
        "for i in range(1004):\n",
        "  n_days1.append(i)\n",
        "\n",
        "# x axis values\n",
        "x = n_days1\n",
        "# corresponding y axis values\n",
        "y = Extract(validate)\n",
        " \n",
        "# plotting the points\n",
        "plt.plot(x, y)\n",
        " \n",
        "# naming the x axis\n",
        "plt.xlabel('Trading Days')\n",
        "# naming the y axis\n",
        "plt.ylabel('Close Price')\n",
        " \n",
        "# giving a title to my graph\n",
        "plt.title('Validate data S&P500')\n",
        " \n",
        "# function to show the plot\n",
        "plt.show()"
      ],
      "metadata": {
        "colab": {
          "base_uri": "https://localhost:8080/",
          "height": 295
        },
        "id": "bwncarcpSlrm",
        "outputId": "cc43ad3e-46b8-4754-e74b-cdc99e399334"
      },
      "execution_count": null,
      "outputs": [
        {
          "output_type": "display_data",
          "data": {
            "text/plain": [
              "<Figure size 432x288 with 1 Axes>"
            ],
            "image/png": "[encoded data removed]"
          },
          "metadata": {
            "needs_background": "light"
          }
        }
      ]
    },
    {
      "cell_type": "code",
      "source": [
        "n_days=[]\n",
        "n_days1=[]\n",
        "for i in range(1004):\n",
        "  n_days1.append(i)\n",
        "\n",
        "# x axis values\n",
        "x = n_days1\n",
        "# corresponding y axis values\n",
        "y = Extract(test)\n",
        " \n",
        "# plotting the points\n",
        "plt.plot(x, y)\n",
        " \n",
        "# naming the x axis\n",
        "plt.xlabel('Trading Days')\n",
        "# naming the y axis\n",
        "plt.ylabel('Close Price')\n",
        " \n",
        "# giving a title to my graph\n",
        "plt.title('Test data S&P500')\n",
        " \n",
        "# function to show the plot\n",
        "plt.show()"
      ],
      "metadata": {
        "id": "mNgi-_8SYHNU",
        "colab": {
          "base_uri": "https://localhost:8080/",
          "height": 295
        },
        "outputId": "4f83296d-d9ee-49d1-8dbd-579f20e76bee"
      },
      "execution_count": null,
      "outputs": [
        {
          "output_type": "display_data",
          "data": {
            "text/plain": [
              "<Figure size 432x288 with 1 Axes>"
            ],
            "image/png": "[encoded data removed]"
          },
          "metadata": {
            "needs_background": "light"
          }
        }
      ]
    },
    {
      "cell_type": "markdown",
      "source": [
        "The data has been normalized using linear scaling (x-xmin)/(xmax-xmin)\n",
        "Now we need to build and train different neural networks using the normalized data.\n"
      ],
      "metadata": {
        "id": "qC1BW6nUcDuK"
      }
    },
    {
      "cell_type": "code",
      "source": [
        "X_train = []\n",
        "y_train = []\n",
        "for i in range(200, 8031):\n",
        "    X_train.append(train[i-200:i, 0])\n",
        "    y_train.append(train[i, 0])\n",
        "X_train, y_train = np.array(X_train), np.array(y_train)\n",
        "\n",
        "X_train = np.reshape(X_train, (X_train.shape[0], X_train.shape[1], 1))"
      ],
      "metadata": {
        "id": "E16pbY5LcXov"
      },
      "execution_count": null,
      "outputs": []
    },
    {
      "cell_type": "code",
      "source": [
        "print(X_train)\n",
        "print(X_train.shape)"
      ],
      "metadata": {
        "colab": {
          "base_uri": "https://localhost:8080/"
        },
        "id": "uNw3AJyEJWG0",
        "outputId": "a2833c0c-0351-44ca-b08f-7ca0b52793bd"
      },
      "execution_count": null,
      "outputs": [
        {
          "output_type": "stream",
          "name": "stdout",
          "text": [
            "[[[0.00287957]\n",
            "  [0.00318795]\n",
            "  [0.00328152]\n",
            "  ...\n",
            "  [0.00920442]\n",
            "  [0.00906405]\n",
            "  [0.00958935]]\n",
            "\n",
            " [[0.00318795]\n",
            "  [0.00328152]\n",
            "  [0.00348781]\n",
            "  ...\n",
            "  [0.00906405]\n",
            "  [0.00958935]\n",
            "  [0.00963189]]\n",
            "\n",
            " [[0.00328152]\n",
            "  [0.00348781]\n",
            "  [0.00354311]\n",
            "  ...\n",
            "  [0.00958935]\n",
            "  [0.00963189]\n",
            "  [0.00989347]]\n",
            "\n",
            " ...\n",
            "\n",
            " [[0.32894098]\n",
            "  [0.33084225]\n",
            "  [0.32964704]\n",
            "  ...\n",
            "  [0.37076494]\n",
            "  [0.37057566]\n",
            "  [0.37274916]]\n",
            "\n",
            " [[0.33084225]\n",
            "  [0.32964704]\n",
            "  [0.33246706]\n",
            "  ...\n",
            "  [0.37057566]\n",
            "  [0.37274916]\n",
            "  [0.37329361]]\n",
            "\n",
            " [[0.32964704]\n",
            "  [0.33246706]\n",
            "  [0.33257127]\n",
            "  ...\n",
            "  [0.37274916]\n",
            "  [0.37329361]\n",
            "  [0.37149652]]]\n",
            "(7831, 200, 1)\n"
          ]
        }
      ]
    },
    {
      "cell_type": "code",
      "source": [
        "X_test = []\n",
        "y_test = []\n",
        "for i in range(200, 1004):\n",
        "    X_test.append(test[i-200:i, 0])\n",
        "    y_test.append(test[i, 0])\n",
        "X_test, y_test = np.array(X_test), np.array(y_test)\n",
        "\n",
        "X_test = np.reshape(X_test, (X_test.shape[0], X_test.shape[1], 1))"
      ],
      "metadata": {
        "id": "qcKSHPTIDSJg"
      },
      "execution_count": null,
      "outputs": []
    },
    {
      "cell_type": "code",
      "source": [
        "print(X_test)\n",
        "print(X_test.shape)\n",
        "print(y_test.shape)"
      ],
      "metadata": {
        "colab": {
          "base_uri": "https://localhost:8080/"
        },
        "id": "t1zAHn4gD_B8",
        "outputId": "62e64dbd-51aa-4230-b076-47ed1e2b03a9"
      },
      "execution_count": null,
      "outputs": [
        {
          "output_type": "stream",
          "name": "stdout",
          "text": [
            "[[[0.55566782]\n",
            "  [0.54368802]\n",
            "  [0.54840298]\n",
            "  ...\n",
            "  [0.54486836]\n",
            "  [0.54354768]\n",
            "  [0.54364763]]\n",
            "\n",
            " [[0.54368802]\n",
            "  [0.54840298]\n",
            "  [0.55884938]\n",
            "  ...\n",
            "  [0.54354768]\n",
            "  [0.54364763]\n",
            "  [0.5374759 ]]\n",
            "\n",
            " [[0.54840298]\n",
            "  [0.55884938]\n",
            "  [0.55459595]\n",
            "  ...\n",
            "  [0.54364763]\n",
            "  [0.5374759 ]\n",
            "  [0.52919662]]\n",
            "\n",
            " ...\n",
            "\n",
            " [[0.86487505]\n",
            "  [0.87363705]\n",
            "  [0.87745455]\n",
            "  ...\n",
            "  [0.92019932]\n",
            "  [0.92582877]\n",
            "  [0.92589471]]\n",
            "\n",
            " [[0.87363705]\n",
            "  [0.87745455]\n",
            "  [0.86087677]\n",
            "  ...\n",
            "  [0.92582877]\n",
            "  [0.92589471]\n",
            "  [0.91069079]]\n",
            "\n",
            " [[0.87745455]\n",
            "  [0.86087677]\n",
            "  [0.85666799]\n",
            "  ...\n",
            "  [0.92589471]\n",
            "  [0.91069079]\n",
            "  [0.89966811]]]\n",
            "(804, 200, 1)\n",
            "(804,)\n"
          ]
        }
      ]
    },
    {
      "cell_type": "code",
      "source": [
        "X_validate = []\n",
        "y_validate = []\n",
        "for i in range(200, 1004):\n",
        "    X_validate.append(validate[i-200:i, 0])\n",
        "    y_validate.append(validate[i, 0])\n",
        "X_validate, y_validate = np.array(X_validate), np.array(y_validate)\n",
        "\n",
        "#X_validate = np.reshape(X_validate, (X_validate.shape[0], X_validate.shape[1], 1))"
      ],
      "metadata": {
        "id": "Zat7KPZqE4W1"
      },
      "execution_count": null,
      "outputs": []
    },
    {
      "cell_type": "code",
      "source": [
        "from keras.models import Sequential\n",
        "from keras.layers import Dense\n",
        "from keras.layers import LSTM\n",
        "from keras.layers import Dropout"
      ],
      "metadata": {
        "id": "DOgcIyVGJcj0"
      },
      "execution_count": null,
      "outputs": []
    },
    {
      "cell_type": "code",
      "source": [
        "regressor = Sequential()\n",
        "\n",
        "regressor.add(LSTM(units = 50, return_sequences = True, input_shape = (X_train.shape[1], 1)))\n",
        "regressor.add(Dropout(0.2))\n",
        "\n",
        "regressor.add(Dense(units = 1))\n",
        "\n",
        "regressor.compile(optimizer = 'adam', loss = 'mean_squared_error')\n",
        "\n",
        "regressor.fit(X_train, y_train, epochs = 20, batch_size = 32)"
      ],
      "metadata": {
        "colab": {
          "base_uri": "https://localhost:8080/"
        },
        "id": "6VGs3k9JLeO_",
        "outputId": "3e39c017-3152-4623-8d9e-df87f1b5b7f0"
      },
      "execution_count": null,
      "outputs": [
        {
          "output_type": "stream",
          "name": "stdout",
          "text": [
            "Epoch 1/20\n",
            "245/245 [==============================] - 24s 87ms/step - loss: 0.0114\n",
            "Epoch 2/20\n",
            "245/245 [==============================] - 22s 88ms/step - loss: 0.0103\n",
            "Epoch 3/20\n",
            "245/245 [==============================] - 24s 98ms/step - loss: 0.0103\n",
            "Epoch 4/20\n",
            "245/245 [==============================] - 22s 88ms/step - loss: 0.0102\n",
            "Epoch 5/20\n",
            "245/245 [==============================] - 22s 89ms/step - loss: 0.0102\n",
            "Epoch 6/20\n",
            "245/245 [==============================] - 22s 89ms/step - loss: 0.0102\n",
            "Epoch 7/20\n",
            "245/245 [==============================] - 22s 91ms/step - loss: 0.0101\n",
            "Epoch 8/20\n",
            "245/245 [==============================] - 22s 90ms/step - loss: 0.0101\n",
            "Epoch 9/20\n",
            "245/245 [==============================] - 22s 91ms/step - loss: 0.0101\n",
            "Epoch 10/20\n",
            "245/245 [==============================] - 22s 90ms/step - loss: 0.0101\n",
            "Epoch 11/20\n",
            "245/245 [==============================] - 22s 88ms/step - loss: 0.0101\n",
            "Epoch 12/20\n",
            "245/245 [==============================] - 22s 91ms/step - loss: 0.0101\n",
            "Epoch 13/20\n",
            "245/245 [==============================] - 21s 88ms/step - loss: 0.0101\n",
            "Epoch 14/20\n",
            "245/245 [==============================] - 22s 91ms/step - loss: 0.0101\n",
            "Epoch 15/20\n",
            "245/245 [==============================] - 22s 89ms/step - loss: 0.0101\n",
            "Epoch 16/20\n",
            "245/245 [==============================] - 21s 87ms/step - loss: 0.0101\n",
            "Epoch 17/20\n",
            "245/245 [==============================] - 22s 90ms/step - loss: 0.0101\n",
            "Epoch 18/20\n",
            "245/245 [==============================] - 22s 89ms/step - loss: 0.0101\n",
            "Epoch 19/20\n",
            "245/245 [==============================] - 22s 90ms/step - loss: 0.0101\n",
            "Epoch 20/20\n",
            "245/245 [==============================] - 22s 91ms/step - loss: 0.0101\n"
          ]
        },
        {
          "output_type": "execute_result",
          "data": {
            "text/plain": [
              "<keras.callbacks.History at 0x7fa7ef18e2d0>"
            ]
          },
          "metadata": {},
          "execution_count": 32
        }
      ]
    },
    {
      "cell_type": "code",
      "source": [
        "train_predict = regressor.predict(X_train)\n",
        "test_predict = regressor.predict(X_test) \n"
      ],
      "metadata": {
        "id": "wFm3vidEORfb"
      },
      "execution_count": null,
      "outputs": []
    },
    {
      "cell_type": "code",
      "source": [
        "validate_predict = regressor.predict(X_validate)"
      ],
      "metadata": {
        "id": "MDsxcLcRM9tj"
      },
      "execution_count": null,
      "outputs": []
    },
    {
      "cell_type": "code",
      "source": [
        "print(train_predict)\n",
        "print(train_predict.shape)\n",
        "train_predict = np.reshape(train_predict, (train_predict[0],train_predict[1]))"
      ],
      "metadata": {
        "colab": {
          "base_uri": "https://localhost:8080/",
          "height": 1000
        },
        "id": "KWc3hXScAv9U",
        "outputId": "164e15da-0dc5-449d-8cd3-9ddde03873a2"
      },
      "execution_count": null,
      "outputs": [
        {
          "output_type": "stream",
          "name": "stdout",
          "text": [
            "[[[0.15083511]\n",
            "  [0.15218318]\n",
            "  [0.15083386]\n",
            "  ...\n",
            "  [0.14930525]\n",
            "  [0.14930755]\n",
            "  [0.14930254]]\n",
            "\n",
            " [[0.15083359]\n",
            "  [0.15218717]\n",
            "  [0.15083793]\n",
            "  ...\n",
            "  [0.14930755]\n",
            "  [0.14930254]\n",
            "  [0.14930731]]\n",
            "\n",
            " [[0.15083314]\n",
            "  [0.15218751]\n",
            "  [0.15084176]\n",
            "  ...\n",
            "  [0.14930254]\n",
            "  [0.14930731]\n",
            "  [0.14931104]]\n",
            "\n",
            " ...\n",
            "\n",
            " [[0.1492196 ]\n",
            "  [0.15518679]\n",
            "  [0.15772052]\n",
            "  ...\n",
            "  [0.1585792 ]\n",
            "  [0.15858963]\n",
            "  [0.15857723]]\n",
            "\n",
            " [[0.14921008]\n",
            "  [0.15521973]\n",
            "  [0.15771154]\n",
            "  ...\n",
            "  [0.15858963]\n",
            "  [0.15857723]\n",
            "  [0.15859823]]\n",
            "\n",
            " [[0.14921607]\n",
            "  [0.15518837]\n",
            "  [0.15773627]\n",
            "  ...\n",
            "  [0.15857723]\n",
            "  [0.15859823]\n",
            "  [0.15863267]]]\n",
            "(7831, 200, 1)\n"
          ]
        },
        {
          "output_type": "error",
          "ename": "TypeError",
          "evalue": "ignored",
          "traceback": [
            "\u001b[0;31m---------------------------------------------------------------------------\u001b[0m",
            "\u001b[0;31mTypeError\u001b[0m                                 Traceback (most recent call last)",
            "\u001b[0;32m/usr/local/lib/python3.7/dist-packages/numpy/core/fromnumeric.py\u001b[0m in \u001b[0;36m_wrapfunc\u001b[0;34m(obj, method, *args, **kwds)\u001b[0m\n\u001b[1;32m     56\u001b[0m     \u001b[0;32mtry\u001b[0m\u001b[0;34m:\u001b[0m\u001b[0;34m\u001b[0m\u001b[0;34m\u001b[0m\u001b[0m\n\u001b[0;32m---> 57\u001b[0;31m         \u001b[0;32mreturn\u001b[0m \u001b[0mbound\u001b[0m\u001b[0;34m(\u001b[0m\u001b[0;34m*\u001b[0m\u001b[0margs\u001b[0m\u001b[0;34m,\u001b[0m \u001b[0;34m**\u001b[0m\u001b[0mkwds\u001b[0m\u001b[0;34m)\u001b[0m\u001b[0;34m\u001b[0m\u001b[0;34m\u001b[0m\u001b[0m\n\u001b[0m\u001b[1;32m     58\u001b[0m     \u001b[0;32mexcept\u001b[0m \u001b[0mTypeError\u001b[0m\u001b[0;34m:\u001b[0m\u001b[0;34m\u001b[0m\u001b[0;34m\u001b[0m\u001b[0m\n",
            "\u001b[0;31mTypeError\u001b[0m: only integer scalar arrays can be converted to a scalar index",
            "\nDuring handling of the above exception, another exception occurred:\n",
            "\u001b[0;31mTypeError\u001b[0m                                 Traceback (most recent call last)",
            "\u001b[0;32m<ipython-input-38-a5264c73865e>\u001b[0m in \u001b[0;36m<module>\u001b[0;34m()\u001b[0m\n\u001b[1;32m      1\u001b[0m \u001b[0mprint\u001b[0m\u001b[0;34m(\u001b[0m\u001b[0mtrain_predict\u001b[0m\u001b[0;34m)\u001b[0m\u001b[0;34m\u001b[0m\u001b[0;34m\u001b[0m\u001b[0m\n\u001b[1;32m      2\u001b[0m \u001b[0mprint\u001b[0m\u001b[0;34m(\u001b[0m\u001b[0mtrain_predict\u001b[0m\u001b[0;34m.\u001b[0m\u001b[0mshape\u001b[0m\u001b[0;34m)\u001b[0m\u001b[0;34m\u001b[0m\u001b[0;34m\u001b[0m\u001b[0m\n\u001b[0;32m----> 3\u001b[0;31m \u001b[0mtrain_predict\u001b[0m \u001b[0;34m=\u001b[0m \u001b[0mnp\u001b[0m\u001b[0;34m.\u001b[0m\u001b[0mreshape\u001b[0m\u001b[0;34m(\u001b[0m\u001b[0mtrain_predict\u001b[0m\u001b[0;34m,\u001b[0m \u001b[0;34m(\u001b[0m\u001b[0mtrain_predict\u001b[0m\u001b[0;34m[\u001b[0m\u001b[0;36m0\u001b[0m\u001b[0;34m]\u001b[0m\u001b[0;34m,\u001b[0m\u001b[0mtrain_predict\u001b[0m\u001b[0;34m[\u001b[0m\u001b[0;36m1\u001b[0m\u001b[0;34m]\u001b[0m\u001b[0;34m)\u001b[0m\u001b[0;34m)\u001b[0m\u001b[0;34m\u001b[0m\u001b[0;34m\u001b[0m\u001b[0m\n\u001b[0m",
            "\u001b[0;32m<__array_function__ internals>\u001b[0m in \u001b[0;36mreshape\u001b[0;34m(*args, **kwargs)\u001b[0m\n",
            "\u001b[0;32m/usr/local/lib/python3.7/dist-packages/numpy/core/fromnumeric.py\u001b[0m in \u001b[0;36mreshape\u001b[0;34m(a, newshape, order)\u001b[0m\n\u001b[1;32m    296\u001b[0m            [5, 6]])\n\u001b[1;32m    297\u001b[0m     \"\"\"\n\u001b[0;32m--> 298\u001b[0;31m     \u001b[0;32mreturn\u001b[0m \u001b[0m_wrapfunc\u001b[0m\u001b[0;34m(\u001b[0m\u001b[0ma\u001b[0m\u001b[0;34m,\u001b[0m \u001b[0;34m'reshape'\u001b[0m\u001b[0;34m,\u001b[0m \u001b[0mnewshape\u001b[0m\u001b[0;34m,\u001b[0m \u001b[0morder\u001b[0m\u001b[0;34m=\u001b[0m\u001b[0morder\u001b[0m\u001b[0;34m)\u001b[0m\u001b[0;34m\u001b[0m\u001b[0;34m\u001b[0m\u001b[0m\n\u001b[0m\u001b[1;32m    299\u001b[0m \u001b[0;34m\u001b[0m\u001b[0m\n\u001b[1;32m    300\u001b[0m \u001b[0;34m\u001b[0m\u001b[0m\n",
            "\u001b[0;32m/usr/local/lib/python3.7/dist-packages/numpy/core/fromnumeric.py\u001b[0m in \u001b[0;36m_wrapfunc\u001b[0;34m(obj, method, *args, **kwds)\u001b[0m\n\u001b[1;32m     64\u001b[0m         \u001b[0;31m# Call _wrapit from within the except clause to ensure a potential\u001b[0m\u001b[0;34m\u001b[0m\u001b[0;34m\u001b[0m\u001b[0;34m\u001b[0m\u001b[0m\n\u001b[1;32m     65\u001b[0m         \u001b[0;31m# exception has a traceback chain.\u001b[0m\u001b[0;34m\u001b[0m\u001b[0;34m\u001b[0m\u001b[0;34m\u001b[0m\u001b[0m\n\u001b[0;32m---> 66\u001b[0;31m         \u001b[0;32mreturn\u001b[0m \u001b[0m_wrapit\u001b[0m\u001b[0;34m(\u001b[0m\u001b[0mobj\u001b[0m\u001b[0;34m,\u001b[0m \u001b[0mmethod\u001b[0m\u001b[0;34m,\u001b[0m \u001b[0;34m*\u001b[0m\u001b[0margs\u001b[0m\u001b[0;34m,\u001b[0m \u001b[0;34m**\u001b[0m\u001b[0mkwds\u001b[0m\u001b[0;34m)\u001b[0m\u001b[0;34m\u001b[0m\u001b[0;34m\u001b[0m\u001b[0m\n\u001b[0m\u001b[1;32m     67\u001b[0m \u001b[0;34m\u001b[0m\u001b[0m\n\u001b[1;32m     68\u001b[0m \u001b[0;34m\u001b[0m\u001b[0m\n",
            "\u001b[0;32m/usr/local/lib/python3.7/dist-packages/numpy/core/fromnumeric.py\u001b[0m in \u001b[0;36m_wrapit\u001b[0;34m(obj, method, *args, **kwds)\u001b[0m\n\u001b[1;32m     41\u001b[0m     \u001b[0;32mexcept\u001b[0m \u001b[0mAttributeError\u001b[0m\u001b[0;34m:\u001b[0m\u001b[0;34m\u001b[0m\u001b[0;34m\u001b[0m\u001b[0m\n\u001b[1;32m     42\u001b[0m         \u001b[0mwrap\u001b[0m \u001b[0;34m=\u001b[0m \u001b[0;32mNone\u001b[0m\u001b[0;34m\u001b[0m\u001b[0;34m\u001b[0m\u001b[0m\n\u001b[0;32m---> 43\u001b[0;31m     \u001b[0mresult\u001b[0m \u001b[0;34m=\u001b[0m \u001b[0mgetattr\u001b[0m\u001b[0;34m(\u001b[0m\u001b[0masarray\u001b[0m\u001b[0;34m(\u001b[0m\u001b[0mobj\u001b[0m\u001b[0;34m)\u001b[0m\u001b[0;34m,\u001b[0m \u001b[0mmethod\u001b[0m\u001b[0;34m)\u001b[0m\u001b[0;34m(\u001b[0m\u001b[0;34m*\u001b[0m\u001b[0margs\u001b[0m\u001b[0;34m,\u001b[0m \u001b[0;34m**\u001b[0m\u001b[0mkwds\u001b[0m\u001b[0;34m)\u001b[0m\u001b[0;34m\u001b[0m\u001b[0;34m\u001b[0m\u001b[0m\n\u001b[0m\u001b[1;32m     44\u001b[0m     \u001b[0;32mif\u001b[0m \u001b[0mwrap\u001b[0m\u001b[0;34m:\u001b[0m\u001b[0;34m\u001b[0m\u001b[0;34m\u001b[0m\u001b[0m\n\u001b[1;32m     45\u001b[0m         \u001b[0;32mif\u001b[0m \u001b[0;32mnot\u001b[0m \u001b[0misinstance\u001b[0m\u001b[0;34m(\u001b[0m\u001b[0mresult\u001b[0m\u001b[0;34m,\u001b[0m \u001b[0mmu\u001b[0m\u001b[0;34m.\u001b[0m\u001b[0mndarray\u001b[0m\u001b[0;34m)\u001b[0m\u001b[0;34m:\u001b[0m\u001b[0;34m\u001b[0m\u001b[0;34m\u001b[0m\u001b[0m\n",
            "\u001b[0;31mTypeError\u001b[0m: only integer scalar arrays can be converted to a scalar index"
          ]
        }
      ]
    },
    {
      "cell_type": "code",
      "source": [
        "train_predict = sc.inverse_transform(train_predict)\n",
        "test_predict = sc.inverse_transform(test_predict)\n",
        "validate_predict = sc.inverse_transform(validate_predict)"
      ],
      "metadata": {
        "colab": {
          "base_uri": "https://localhost:8080/",
          "height": 362
        },
        "id": "nEAhpVPQO7CY",
        "outputId": "8eace597-0ef9-4a71-df7f-91d76a52c55a"
      },
      "execution_count": null,
      "outputs": [
        {
          "output_type": "error",
          "ename": "ValueError",
          "evalue": "ignored",
          "traceback": [
            "\u001b[0;31m---------------------------------------------------------------------------\u001b[0m",
            "\u001b[0;31mValueError\u001b[0m                                Traceback (most recent call last)",
            "\u001b[0;32m<ipython-input-35-058fe81a54c7>\u001b[0m in \u001b[0;36m<module>\u001b[0;34m()\u001b[0m\n\u001b[0;32m----> 1\u001b[0;31m \u001b[0mtrain_predict\u001b[0m \u001b[0;34m=\u001b[0m \u001b[0msc\u001b[0m\u001b[0;34m.\u001b[0m\u001b[0minverse_transform\u001b[0m\u001b[0;34m(\u001b[0m\u001b[0mtrain_predict\u001b[0m\u001b[0;34m)\u001b[0m\u001b[0;34m\u001b[0m\u001b[0;34m\u001b[0m\u001b[0m\n\u001b[0m\u001b[1;32m      2\u001b[0m \u001b[0mtest_predict\u001b[0m \u001b[0;34m=\u001b[0m \u001b[0msc\u001b[0m\u001b[0;34m.\u001b[0m\u001b[0minverse_transform\u001b[0m\u001b[0;34m(\u001b[0m\u001b[0mtest_predict\u001b[0m\u001b[0;34m)\u001b[0m\u001b[0;34m\u001b[0m\u001b[0;34m\u001b[0m\u001b[0m\n\u001b[1;32m      3\u001b[0m \u001b[0mvalidate_predict\u001b[0m \u001b[0;34m=\u001b[0m \u001b[0msc\u001b[0m\u001b[0;34m.\u001b[0m\u001b[0minverse_transform\u001b[0m\u001b[0;34m(\u001b[0m\u001b[0mvalidate_predict\u001b[0m\u001b[0;34m)\u001b[0m\u001b[0;34m\u001b[0m\u001b[0;34m\u001b[0m\u001b[0m\n",
            "\u001b[0;32m/usr/local/lib/python3.7/dist-packages/sklearn/preprocessing/_data.py\u001b[0m in \u001b[0;36minverse_transform\u001b[0;34m(self, X)\u001b[0m\n\u001b[1;32m    524\u001b[0m \u001b[0;34m\u001b[0m\u001b[0m\n\u001b[1;32m    525\u001b[0m         X = check_array(\n\u001b[0;32m--> 526\u001b[0;31m             \u001b[0mX\u001b[0m\u001b[0;34m,\u001b[0m \u001b[0mcopy\u001b[0m\u001b[0;34m=\u001b[0m\u001b[0mself\u001b[0m\u001b[0;34m.\u001b[0m\u001b[0mcopy\u001b[0m\u001b[0;34m,\u001b[0m \u001b[0mdtype\u001b[0m\u001b[0;34m=\u001b[0m\u001b[0mFLOAT_DTYPES\u001b[0m\u001b[0;34m,\u001b[0m \u001b[0mforce_all_finite\u001b[0m\u001b[0;34m=\u001b[0m\u001b[0;34m\"allow-nan\"\u001b[0m\u001b[0;34m\u001b[0m\u001b[0;34m\u001b[0m\u001b[0m\n\u001b[0m\u001b[1;32m    527\u001b[0m         )\n\u001b[1;32m    528\u001b[0m \u001b[0;34m\u001b[0m\u001b[0m\n",
            "\u001b[0;32m/usr/local/lib/python3.7/dist-packages/sklearn/utils/validation.py\u001b[0m in \u001b[0;36mcheck_array\u001b[0;34m(array, accept_sparse, accept_large_sparse, dtype, order, copy, force_all_finite, ensure_2d, allow_nd, ensure_min_samples, ensure_min_features, estimator)\u001b[0m\n\u001b[1;32m    794\u001b[0m             raise ValueError(\n\u001b[1;32m    795\u001b[0m                 \u001b[0;34m\"Found array with dim %d. %s expected <= 2.\"\u001b[0m\u001b[0;34m\u001b[0m\u001b[0;34m\u001b[0m\u001b[0m\n\u001b[0;32m--> 796\u001b[0;31m                 \u001b[0;34m%\u001b[0m \u001b[0;34m(\u001b[0m\u001b[0marray\u001b[0m\u001b[0;34m.\u001b[0m\u001b[0mndim\u001b[0m\u001b[0;34m,\u001b[0m \u001b[0mestimator_name\u001b[0m\u001b[0;34m)\u001b[0m\u001b[0;34m\u001b[0m\u001b[0;34m\u001b[0m\u001b[0m\n\u001b[0m\u001b[1;32m    797\u001b[0m             )\n\u001b[1;32m    798\u001b[0m \u001b[0;34m\u001b[0m\u001b[0m\n",
            "\u001b[0;31mValueError\u001b[0m: Found array with dim 3. Estimator expected <= 2."
          ]
        }
      ]
    },
    {
      "cell_type": "code",
      "source": [
        "from sklearn.metrics import mean_absolute_error as mae\n",
        "  \n",
        "# calculate MAE\n",
        "train_error = mae(y_train, train_predict)\n",
        "test_error = mae(y_test, test_predict)\n",
        "validate_error = mae(y_validate, validate_predict)\n",
        "# display\n",
        "print(train_error)\n",
        "print(test_error)\n",
        "print(validate_error)"
      ],
      "metadata": {
        "colab": {
          "base_uri": "https://localhost:8080/",
          "height": 398
        },
        "id": "54F4joOyNOzi",
        "outputId": "b32c906d-b8f9-4e32-d678-37586012bac8"
      },
      "execution_count": null,
      "outputs": [
        {
          "output_type": "error",
          "ename": "ValueError",
          "evalue": "ignored",
          "traceback": [
            "\u001b[0;31m---------------------------------------------------------------------------\u001b[0m",
            "\u001b[0;31mValueError\u001b[0m                                Traceback (most recent call last)",
            "\u001b[0;32m<ipython-input-40-e42775db5538>\u001b[0m in \u001b[0;36m<module>\u001b[0;34m()\u001b[0m\n\u001b[1;32m      2\u001b[0m \u001b[0;34m\u001b[0m\u001b[0m\n\u001b[1;32m      3\u001b[0m \u001b[0;31m# calculate MAE\u001b[0m\u001b[0;34m\u001b[0m\u001b[0;34m\u001b[0m\u001b[0;34m\u001b[0m\u001b[0m\n\u001b[0;32m----> 4\u001b[0;31m \u001b[0mtrain_error\u001b[0m \u001b[0;34m=\u001b[0m \u001b[0mmae\u001b[0m\u001b[0;34m(\u001b[0m\u001b[0my_train\u001b[0m\u001b[0;34m,\u001b[0m \u001b[0mtrain_predict\u001b[0m\u001b[0;34m)\u001b[0m\u001b[0;34m\u001b[0m\u001b[0;34m\u001b[0m\u001b[0m\n\u001b[0m\u001b[1;32m      5\u001b[0m \u001b[0mtest_error\u001b[0m \u001b[0;34m=\u001b[0m \u001b[0mmae\u001b[0m\u001b[0;34m(\u001b[0m\u001b[0my_test\u001b[0m\u001b[0;34m,\u001b[0m \u001b[0mtest_predict\u001b[0m\u001b[0;34m)\u001b[0m\u001b[0;34m\u001b[0m\u001b[0;34m\u001b[0m\u001b[0m\n\u001b[1;32m      6\u001b[0m \u001b[0mvalidate_error\u001b[0m \u001b[0;34m=\u001b[0m \u001b[0mmae\u001b[0m\u001b[0;34m(\u001b[0m\u001b[0my_validate\u001b[0m\u001b[0;34m,\u001b[0m \u001b[0mvalidate_predict\u001b[0m\u001b[0;34m)\u001b[0m\u001b[0;34m\u001b[0m\u001b[0;34m\u001b[0m\u001b[0m\n",
            "\u001b[0;32m/usr/local/lib/python3.7/dist-packages/sklearn/metrics/_regression.py\u001b[0m in \u001b[0;36mmean_absolute_error\u001b[0;34m(y_true, y_pred, sample_weight, multioutput)\u001b[0m\n\u001b[1;32m    190\u001b[0m     \"\"\"\n\u001b[1;32m    191\u001b[0m     y_type, y_true, y_pred, multioutput = _check_reg_targets(\n\u001b[0;32m--> 192\u001b[0;31m         \u001b[0my_true\u001b[0m\u001b[0;34m,\u001b[0m \u001b[0my_pred\u001b[0m\u001b[0;34m,\u001b[0m \u001b[0mmultioutput\u001b[0m\u001b[0;34m\u001b[0m\u001b[0;34m\u001b[0m\u001b[0m\n\u001b[0m\u001b[1;32m    193\u001b[0m     )\n\u001b[1;32m    194\u001b[0m     \u001b[0mcheck_consistent_length\u001b[0m\u001b[0;34m(\u001b[0m\u001b[0my_true\u001b[0m\u001b[0;34m,\u001b[0m \u001b[0my_pred\u001b[0m\u001b[0;34m,\u001b[0m \u001b[0msample_weight\u001b[0m\u001b[0;34m)\u001b[0m\u001b[0;34m\u001b[0m\u001b[0;34m\u001b[0m\u001b[0m\n",
            "\u001b[0;32m/usr/local/lib/python3.7/dist-packages/sklearn/metrics/_regression.py\u001b[0m in \u001b[0;36m_check_reg_targets\u001b[0;34m(y_true, y_pred, multioutput, dtype)\u001b[0m\n\u001b[1;32m     94\u001b[0m     \u001b[0mcheck_consistent_length\u001b[0m\u001b[0;34m(\u001b[0m\u001b[0my_true\u001b[0m\u001b[0;34m,\u001b[0m \u001b[0my_pred\u001b[0m\u001b[0;34m)\u001b[0m\u001b[0;34m\u001b[0m\u001b[0;34m\u001b[0m\u001b[0m\n\u001b[1;32m     95\u001b[0m     \u001b[0my_true\u001b[0m \u001b[0;34m=\u001b[0m \u001b[0mcheck_array\u001b[0m\u001b[0;34m(\u001b[0m\u001b[0my_true\u001b[0m\u001b[0;34m,\u001b[0m \u001b[0mensure_2d\u001b[0m\u001b[0;34m=\u001b[0m\u001b[0;32mFalse\u001b[0m\u001b[0;34m,\u001b[0m \u001b[0mdtype\u001b[0m\u001b[0;34m=\u001b[0m\u001b[0mdtype\u001b[0m\u001b[0;34m)\u001b[0m\u001b[0;34m\u001b[0m\u001b[0;34m\u001b[0m\u001b[0m\n\u001b[0;32m---> 96\u001b[0;31m     \u001b[0my_pred\u001b[0m \u001b[0;34m=\u001b[0m \u001b[0mcheck_array\u001b[0m\u001b[0;34m(\u001b[0m\u001b[0my_pred\u001b[0m\u001b[0;34m,\u001b[0m \u001b[0mensure_2d\u001b[0m\u001b[0;34m=\u001b[0m\u001b[0;32mFalse\u001b[0m\u001b[0;34m,\u001b[0m \u001b[0mdtype\u001b[0m\u001b[0;34m=\u001b[0m\u001b[0mdtype\u001b[0m\u001b[0;34m)\u001b[0m\u001b[0;34m\u001b[0m\u001b[0;34m\u001b[0m\u001b[0m\n\u001b[0m\u001b[1;32m     97\u001b[0m \u001b[0;34m\u001b[0m\u001b[0m\n\u001b[1;32m     98\u001b[0m     \u001b[0;32mif\u001b[0m \u001b[0my_true\u001b[0m\u001b[0;34m.\u001b[0m\u001b[0mndim\u001b[0m \u001b[0;34m==\u001b[0m \u001b[0;36m1\u001b[0m\u001b[0;34m:\u001b[0m\u001b[0;34m\u001b[0m\u001b[0;34m\u001b[0m\u001b[0m\n",
            "\u001b[0;32m/usr/local/lib/python3.7/dist-packages/sklearn/utils/validation.py\u001b[0m in \u001b[0;36mcheck_array\u001b[0;34m(array, accept_sparse, accept_large_sparse, dtype, order, copy, force_all_finite, ensure_2d, allow_nd, ensure_min_samples, ensure_min_features, estimator)\u001b[0m\n\u001b[1;32m    794\u001b[0m             raise ValueError(\n\u001b[1;32m    795\u001b[0m                 \u001b[0;34m\"Found array with dim %d. %s expected <= 2.\"\u001b[0m\u001b[0;34m\u001b[0m\u001b[0;34m\u001b[0m\u001b[0m\n\u001b[0;32m--> 796\u001b[0;31m                 \u001b[0;34m%\u001b[0m \u001b[0;34m(\u001b[0m\u001b[0marray\u001b[0m\u001b[0;34m.\u001b[0m\u001b[0mndim\u001b[0m\u001b[0;34m,\u001b[0m \u001b[0mestimator_name\u001b[0m\u001b[0;34m)\u001b[0m\u001b[0;34m\u001b[0m\u001b[0;34m\u001b[0m\u001b[0m\n\u001b[0m\u001b[1;32m    797\u001b[0m             )\n\u001b[1;32m    798\u001b[0m \u001b[0;34m\u001b[0m\u001b[0m\n",
            "\u001b[0;31mValueError\u001b[0m: Found array with dim 3. Estimator expected <= 2."
          ]
        }
      ]
    },
    {
      "cell_type": "code",
      "source": [
        ""
      ],
      "metadata": {
        "id": "i2pxveLIOrJa"
      },
      "execution_count": null,
      "outputs": []
    }
  ]
}